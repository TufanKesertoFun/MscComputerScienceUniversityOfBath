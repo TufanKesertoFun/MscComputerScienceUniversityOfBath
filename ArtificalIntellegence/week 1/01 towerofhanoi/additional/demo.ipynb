{
 "cells": [
  {
   "cell_type": "code",
   "execution_count": 3,
   "id": "46e06a79-88b6-40c8-b9c4-327c1e15765b",
   "metadata": {},
   "outputs": [
    {
     "name": "stdout",
     "output_type": "stream",
     "text": [
      " 1 | |\n",
      " 2 | |\n",
      " 3 | |\n",
      " 4 | |\n",
      " 5 | |\n",
      "\n"
     ]
    }
   ],
   "source": [
    "import sys\n",
    "sys.path.append('../')\n",
    "from hanoi import HanoiState\n",
    "state = HanoiState()\n",
    "print(state)"
   ]
  },
  {
   "cell_type": "code",
   "execution_count": 8,
   "id": "1959379b-f3c0-4eb5-bed3-9316b5ade745",
   "metadata": {},
   "outputs": [
    {
     "name": "stdout",
     "output_type": "stream",
     "text": [
      " 1 | |\n",
      " 2 | |\n",
      " 3 | |\n",
      " 4 | |\n",
      "\n"
     ]
    }
   ],
   "source": [
    "state = HanoiState(disks=4)\n",
    "print(state)"
   ]
  },
  {
   "cell_type": "code",
   "execution_count": 9,
   "id": "899a37e5",
   "metadata": {},
   "outputs": [
    {
     "name": "stdout",
     "output_type": "stream",
     "text": [
      "[(0, 1), (0, 2)]\n"
     ]
    }
   ],
   "source": [
    "print(state.possible_actions())"
   ]
  }
 ],
 "metadata": {
  "kernelspec": {
   "display_name": "Python 3",
   "language": "python",
   "name": "python3"
  },
  "language_info": {
   "codemirror_mode": {
    "name": "ipython",
    "version": 3
   },
   "file_extension": ".py",
   "mimetype": "text/x-python",
   "name": "python",
   "nbconvert_exporter": "python",
   "pygments_lexer": "ipython3",
   "version": "3.8.0"
  }
 },
 "nbformat": 4,
 "nbformat_minor": 5
}
